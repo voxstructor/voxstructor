{
 "cells": [
  {
   "cell_type": "markdown",
   "metadata": {
    "colab_type": "text",
    "id": "6yk3PMfBuZhS"
   },
   "source": [
    "Make sure GPU is enabled\n",
    "Runtime -> Change Runtime Type -> Hardware Accelerator -> GPU"
   ]
  },
  {
   "cell_type": "code",
   "execution_count": 14,
   "metadata": {
    "colab": {
     "base_uri": "https://localhost:8080/",
     "height": 173
    },
    "colab_type": "code",
    "id": "tDvZn-k9t3Eu",
    "outputId": "c40f808c-41a7-4654-ccb9-25acd5b0497a"
   },
   "outputs": [
    {
     "name": "stdout",
     "output_type": "stream",
     "text": [
      "Loaded encoder \"pretrained.pt\" trained to step 1564501\n",
      "Found synthesizer \"pretrained\" trained to step 278000\n",
      "Building Wave-RNN\n",
      "Trainable Parameters: 4.481M\n",
      "Loading model weights at vocoder\\saved_models\\pretrained\\pretrained.pt\n"
     ]
    }
   ],
   "source": [
    "from IPython.display import Audio\n",
    "from IPython.utils import io\n",
    "from synthesizer.inference import Synthesizer\n",
    "from encoder import inference as encoder\n",
    "from vocoder import inference as vocoder\n",
    "from pathlib import Path\n",
    "import numpy as np\n",
    "import librosa\n",
    "encoder_weights = Path(\"encoder/saved_models/pretrained.pt\")\n",
    "vocoder_weights = Path(\"vocoder/saved_models/pretrained/pretrained.pt\")\n",
    "syn_dir = Path(\"synthesizer/saved_models/logs-pretrained/taco_pretrained\")\n",
    "encoder.load_model(encoder_weights)\n",
    "synthesizer = Synthesizer(syn_dir)\n",
    "vocoder.load_model(vocoder_weights)"
   ]
  },
  {
   "cell_type": "code",
   "execution_count": 15,
   "metadata": {
    "cellView": "both",
    "colab": {
     "base_uri": "https://localhost:8080/",
     "height": 802
    },
    "colab_type": "code",
    "id": "PyLdbUfks2lv",
    "outputId": "6c5bd657-e6e3-456b-f5a4-7186cda3f208"
   },
   "outputs": [],
   "source": [
    "#@title Deep vocoder\n",
    "def synth():\n",
    "  text = \"This is being said in my own voice.  The computer has learned to do an impression of me.\" #@param {type:\"string\"}\n",
    "  print(\"Now recording for 10 seconds, say what you will...\")\n",
    "#   record(10)\n",
    "  print(\"Audio recording complete\")\n",
    "  in_fpath =r\"C:\\Users\\pedestrian\\Desktop\\re-voiceprint\\human\\lu1.m4a\"\n",
    "  reprocessed_wav = encoder.preprocess_wav(in_fpath)\n",
    "  original_wav, sampling_rate = librosa.load(in_fpath)\n",
    "  preprocessed_wav = encoder.preprocess_wav(original_wav, sampling_rate)\n",
    "  embed = encoder.embed_utterance(preprocessed_wav)\n",
    "  print(\"Synthesizing new audio...\")\n",
    "  with io.capture_output() as captured:\n",
    "    specs = synthesizer.synthesize_spectrograms([text], [embed])\n",
    "  generated_wav = vocoder.infer_waveform(specs[0])\n",
    "  generated_wav = np.pad(generated_wav, (0, synthesizer.sample_rate), mode=\"constant\")\n",
    "  display(Audio(generated_wav, rate=synthesizer.sample_rate))"
   ]
  },
  {
   "cell_type": "code",
   "execution_count": 16,
   "metadata": {},
   "outputs": [
    {
     "name": "stdout",
     "output_type": "stream",
     "text": [
      "Now recording for 10 seconds, say what you will...\n",
      "Audio recording complete\n",
      "Synthesizing new audio...\n",
      "INFO:tensorflow:Restoring parameters from synthesizer\\saved_models\\logs-pretrained\\taco_pretrained\\tacotron_model.ckpt-278000\n"
     ]
    },
    {
     "ename": "ValueError",
     "evalue": "Cannot feed value of shape (1, 2, 256) for Tensor 'speaker_embeddings:0', which has shape '(?, 256)'",
     "output_type": "error",
     "traceback": [
      "\u001b[1;31m---------------------------------------------------------------------------\u001b[0m",
      "\u001b[1;31mValueError\u001b[0m                                Traceback (most recent call last)",
      "\u001b[1;32m<ipython-input-16-aecd94fa1496>\u001b[0m in \u001b[0;36m<module>\u001b[1;34m\u001b[0m\n\u001b[1;32m----> 1\u001b[1;33m \u001b[0msynth\u001b[0m\u001b[1;33m(\u001b[0m\u001b[1;33m)\u001b[0m\u001b[1;33m\u001b[0m\u001b[1;33m\u001b[0m\u001b[0m\n\u001b[0m",
      "\u001b[1;32m<ipython-input-15-cec83ef23bae>\u001b[0m in \u001b[0;36msynth\u001b[1;34m()\u001b[0m\n\u001b[0;32m     12\u001b[0m   \u001b[0mprint\u001b[0m\u001b[1;33m(\u001b[0m\u001b[1;34m\"Synthesizing new audio...\"\u001b[0m\u001b[1;33m)\u001b[0m\u001b[1;33m\u001b[0m\u001b[1;33m\u001b[0m\u001b[0m\n\u001b[0;32m     13\u001b[0m   \u001b[1;32mwith\u001b[0m \u001b[0mio\u001b[0m\u001b[1;33m.\u001b[0m\u001b[0mcapture_output\u001b[0m\u001b[1;33m(\u001b[0m\u001b[1;33m)\u001b[0m \u001b[1;32mas\u001b[0m \u001b[0mcaptured\u001b[0m\u001b[1;33m:\u001b[0m\u001b[1;33m\u001b[0m\u001b[1;33m\u001b[0m\u001b[0m\n\u001b[1;32m---> 14\u001b[1;33m     \u001b[0mspecs\u001b[0m \u001b[1;33m=\u001b[0m \u001b[0msynthesizer\u001b[0m\u001b[1;33m.\u001b[0m\u001b[0msynthesize_spectrograms\u001b[0m\u001b[1;33m(\u001b[0m\u001b[1;33m[\u001b[0m\u001b[0mtext\u001b[0m\u001b[1;33m]\u001b[0m\u001b[1;33m,\u001b[0m \u001b[1;33m[\u001b[0m\u001b[0membed\u001b[0m\u001b[1;33m]\u001b[0m\u001b[1;33m)\u001b[0m\u001b[1;33m\u001b[0m\u001b[1;33m\u001b[0m\u001b[0m\n\u001b[0m\u001b[0;32m     15\u001b[0m   \u001b[0mgenerated_wav\u001b[0m \u001b[1;33m=\u001b[0m \u001b[0mvocoder\u001b[0m\u001b[1;33m.\u001b[0m\u001b[0minfer_waveform\u001b[0m\u001b[1;33m(\u001b[0m\u001b[0mspecs\u001b[0m\u001b[1;33m[\u001b[0m\u001b[1;36m0\u001b[0m\u001b[1;33m]\u001b[0m\u001b[1;33m)\u001b[0m\u001b[1;33m\u001b[0m\u001b[1;33m\u001b[0m\u001b[0m\n\u001b[0;32m     16\u001b[0m   \u001b[0mgenerated_wav\u001b[0m \u001b[1;33m=\u001b[0m \u001b[0mnp\u001b[0m\u001b[1;33m.\u001b[0m\u001b[0mpad\u001b[0m\u001b[1;33m(\u001b[0m\u001b[0mgenerated_wav\u001b[0m\u001b[1;33m,\u001b[0m \u001b[1;33m(\u001b[0m\u001b[1;36m0\u001b[0m\u001b[1;33m,\u001b[0m \u001b[0msynthesizer\u001b[0m\u001b[1;33m.\u001b[0m\u001b[0msample_rate\u001b[0m\u001b[1;33m)\u001b[0m\u001b[1;33m,\u001b[0m \u001b[0mmode\u001b[0m\u001b[1;33m=\u001b[0m\u001b[1;34m\"constant\"\u001b[0m\u001b[1;33m)\u001b[0m\u001b[1;33m\u001b[0m\u001b[1;33m\u001b[0m\u001b[0m\n",
      "\u001b[1;32mD:\\pycharm_project\\vs2ttsvoice\\synthesizer\\inference.py\u001b[0m in \u001b[0;36msynthesize_spectrograms\u001b[1;34m(self, texts, embeddings, return_alignments)\u001b[0m\n\u001b[0;32m     93\u001b[0m             \u001b[1;32mif\u001b[0m \u001b[1;32mnot\u001b[0m \u001b[0mself\u001b[0m\u001b[1;33m.\u001b[0m\u001b[0mis_loaded\u001b[0m\u001b[1;33m(\u001b[0m\u001b[1;33m)\u001b[0m \u001b[1;32mor\u001b[0m \u001b[0mself\u001b[0m\u001b[1;33m.\u001b[0m\u001b[0m_seed\u001b[0m \u001b[1;32mis\u001b[0m \u001b[1;32mnot\u001b[0m \u001b[1;32mNone\u001b[0m\u001b[1;33m:\u001b[0m\u001b[1;33m\u001b[0m\u001b[1;33m\u001b[0m\u001b[0m\n\u001b[0;32m     94\u001b[0m                 \u001b[0mself\u001b[0m\u001b[1;33m.\u001b[0m\u001b[0mload\u001b[0m\u001b[1;33m(\u001b[0m\u001b[1;33m)\u001b[0m\u001b[1;33m\u001b[0m\u001b[1;33m\u001b[0m\u001b[0m\n\u001b[1;32m---> 95\u001b[1;33m             \u001b[0mspecs\u001b[0m\u001b[1;33m,\u001b[0m \u001b[0malignments\u001b[0m \u001b[1;33m=\u001b[0m \u001b[0mself\u001b[0m\u001b[1;33m.\u001b[0m\u001b[0m_model\u001b[0m\u001b[1;33m.\u001b[0m\u001b[0mmy_synthesize\u001b[0m\u001b[1;33m(\u001b[0m\u001b[0membeddings\u001b[0m\u001b[1;33m,\u001b[0m \u001b[0mtexts\u001b[0m\u001b[1;33m)\u001b[0m\u001b[1;33m\u001b[0m\u001b[1;33m\u001b[0m\u001b[0m\n\u001b[0m\u001b[0;32m     96\u001b[0m         \u001b[1;32melse\u001b[0m\u001b[1;33m:\u001b[0m\u001b[1;33m\u001b[0m\u001b[1;33m\u001b[0m\u001b[0m\n\u001b[0;32m     97\u001b[0m             \u001b[1;31m# Low memory inference mode: load the model upon every request. The model has to be\u001b[0m\u001b[1;33m\u001b[0m\u001b[1;33m\u001b[0m\u001b[1;33m\u001b[0m\u001b[0m\n",
      "\u001b[1;32mD:\\pycharm_project\\vs2ttsvoice\\synthesizer\\tacotron2.py\u001b[0m in \u001b[0;36mmy_synthesize\u001b[1;34m(self, speaker_embeds, texts)\u001b[0m\n\u001b[0;32m     93\u001b[0m         mels, alignments, stop_tokens = self.session.run(\n\u001b[0;32m     94\u001b[0m             \u001b[1;33m[\u001b[0m\u001b[0mself\u001b[0m\u001b[1;33m.\u001b[0m\u001b[0mmel_outputs\u001b[0m\u001b[1;33m,\u001b[0m \u001b[0mself\u001b[0m\u001b[1;33m.\u001b[0m\u001b[0malignments\u001b[0m\u001b[1;33m,\u001b[0m \u001b[0mself\u001b[0m\u001b[1;33m.\u001b[0m\u001b[0mstop_token_prediction\u001b[0m\u001b[1;33m]\u001b[0m\u001b[1;33m,\u001b[0m\u001b[1;33m\u001b[0m\u001b[1;33m\u001b[0m\u001b[0m\n\u001b[1;32m---> 95\u001b[1;33m             feed_dict=feed_dict)\n\u001b[0m\u001b[0;32m     96\u001b[0m         \u001b[0mmels\u001b[0m\u001b[1;33m,\u001b[0m \u001b[0malignments\u001b[0m\u001b[1;33m,\u001b[0m \u001b[0mstop_tokens\u001b[0m \u001b[1;33m=\u001b[0m \u001b[0mlist\u001b[0m\u001b[1;33m(\u001b[0m\u001b[0mmels\u001b[0m\u001b[1;33m[\u001b[0m\u001b[1;36m0\u001b[0m\u001b[1;33m]\u001b[0m\u001b[1;33m)\u001b[0m\u001b[1;33m,\u001b[0m \u001b[0malignments\u001b[0m\u001b[1;33m[\u001b[0m\u001b[1;36m0\u001b[0m\u001b[1;33m]\u001b[0m\u001b[1;33m,\u001b[0m \u001b[0mstop_tokens\u001b[0m\u001b[1;33m[\u001b[0m\u001b[1;36m0\u001b[0m\u001b[1;33m]\u001b[0m\u001b[1;33m\u001b[0m\u001b[1;33m\u001b[0m\u001b[0m\n\u001b[0;32m     97\u001b[0m \u001b[1;33m\u001b[0m\u001b[0m\n",
      "\u001b[1;32mD:\\ProgramData\\Anaconda3\\envs\\revoice\\lib\\site-packages\\tensorflow_core\\python\\client\\session.py\u001b[0m in \u001b[0;36mrun\u001b[1;34m(self, fetches, feed_dict, options, run_metadata)\u001b[0m\n\u001b[0;32m    954\u001b[0m     \u001b[1;32mtry\u001b[0m\u001b[1;33m:\u001b[0m\u001b[1;33m\u001b[0m\u001b[1;33m\u001b[0m\u001b[0m\n\u001b[0;32m    955\u001b[0m       result = self._run(None, fetches, feed_dict, options_ptr,\n\u001b[1;32m--> 956\u001b[1;33m                          run_metadata_ptr)\n\u001b[0m\u001b[0;32m    957\u001b[0m       \u001b[1;32mif\u001b[0m \u001b[0mrun_metadata\u001b[0m\u001b[1;33m:\u001b[0m\u001b[1;33m\u001b[0m\u001b[1;33m\u001b[0m\u001b[0m\n\u001b[0;32m    958\u001b[0m         \u001b[0mproto_data\u001b[0m \u001b[1;33m=\u001b[0m \u001b[0mtf_session\u001b[0m\u001b[1;33m.\u001b[0m\u001b[0mTF_GetBuffer\u001b[0m\u001b[1;33m(\u001b[0m\u001b[0mrun_metadata_ptr\u001b[0m\u001b[1;33m)\u001b[0m\u001b[1;33m\u001b[0m\u001b[1;33m\u001b[0m\u001b[0m\n",
      "\u001b[1;32mD:\\ProgramData\\Anaconda3\\envs\\revoice\\lib\\site-packages\\tensorflow_core\\python\\client\\session.py\u001b[0m in \u001b[0;36m_run\u001b[1;34m(self, handle, fetches, feed_dict, options, run_metadata)\u001b[0m\n\u001b[0;32m   1154\u001b[0m                 \u001b[1;34m'Cannot feed value of shape %r for Tensor %r, '\u001b[0m\u001b[1;33m\u001b[0m\u001b[1;33m\u001b[0m\u001b[0m\n\u001b[0;32m   1155\u001b[0m                 \u001b[1;34m'which has shape %r'\u001b[0m \u001b[1;33m%\u001b[0m\u001b[1;33m\u001b[0m\u001b[1;33m\u001b[0m\u001b[0m\n\u001b[1;32m-> 1156\u001b[1;33m                 (np_val.shape, subfeed_t.name, str(subfeed_t.get_shape())))\n\u001b[0m\u001b[0;32m   1157\u001b[0m           \u001b[1;32mif\u001b[0m \u001b[1;32mnot\u001b[0m \u001b[0mself\u001b[0m\u001b[1;33m.\u001b[0m\u001b[0mgraph\u001b[0m\u001b[1;33m.\u001b[0m\u001b[0mis_feedable\u001b[0m\u001b[1;33m(\u001b[0m\u001b[0msubfeed_t\u001b[0m\u001b[1;33m)\u001b[0m\u001b[1;33m:\u001b[0m\u001b[1;33m\u001b[0m\u001b[1;33m\u001b[0m\u001b[0m\n\u001b[0;32m   1158\u001b[0m             \u001b[1;32mraise\u001b[0m \u001b[0mValueError\u001b[0m\u001b[1;33m(\u001b[0m\u001b[1;34m'Tensor %s may not be fed.'\u001b[0m \u001b[1;33m%\u001b[0m \u001b[0msubfeed_t\u001b[0m\u001b[1;33m)\u001b[0m\u001b[1;33m\u001b[0m\u001b[1;33m\u001b[0m\u001b[0m\n",
      "\u001b[1;31mValueError\u001b[0m: Cannot feed value of shape (1, 2, 256) for Tensor 'speaker_embeddings:0', which has shape '(?, 256)'"
     ]
    }
   ],
   "source": [
    "synth()"
   ]
  },
  {
   "cell_type": "code",
   "execution_count": 7,
   "metadata": {},
   "outputs": [
    {
     "name": "stdout",
     "output_type": "stream",
     "text": [
      "Now recording for 10 seconds, say what you will...\n",
      "Audio recording complete\n"
     ]
    }
   ],
   "source": [
    "text = \"This is being said in my own voice.This is being said in my own voice.\" #@param {type:\"string\"}\n",
    "print(\"Now recording for 10 seconds, say what you will...\")\n",
    "# record(10)\n",
    "print(\"Audio recording complete\")\n",
    "in_fpath = r\"C:\\Users\\pedestrian\\Desktop\\re-voiceprint\\human\\lu1.m4a\"\n",
    "reprocessed_wav = encoder.preprocess_wav(in_fpath)\n",
    "original_wav, sampling_rate = librosa.load(in_fpath)\n",
    "preprocessed_wav = encoder.preprocess_wav(original_wav, sampling_rate)\n",
    "embed2 = encoder.embed_utterance(preprocessed_wav)\n",
    "# print(\"Synthesizing new audio...\")\n",
    "# with io.capture_output() as captured:\n",
    "#   specs = synthesizer.synthesize_spectrograms([text], [embed])\n",
    "# generated_wav = vocoder.infer_waveform(specs[0])\n",
    "# generated_wav = np.pad(generated_wav, (0, synthesizer.sample_rate), mode=\"constant\")\n",
    "# display(Audio(generated_wav, rate=synthesizer.sample_rate))"
   ]
  },
  {
   "cell_type": "code",
   "execution_count": 15,
   "metadata": {
    "collapsed": true
   },
   "outputs": [
    {
     "data": {
      "text/plain": [
       "array([4.12342362e-02, 4.32683118e-02, 0.00000000e+00, 0.00000000e+00,\n",
       "       2.65611950e-02, 8.33244063e-03, 0.00000000e+00, 0.00000000e+00,\n",
       "       0.00000000e+00, 4.13994826e-02, 4.28802483e-02, 2.06909910e-01,\n",
       "       1.08816579e-01, 1.14724077e-02, 1.53335007e-02, 4.31271605e-02,\n",
       "       7.29819462e-02, 5.09995148e-02, 0.00000000e+00, 0.00000000e+00,\n",
       "       5.31005207e-03, 0.00000000e+00, 0.00000000e+00, 0.00000000e+00,\n",
       "       0.00000000e+00, 5.60861118e-02, 0.00000000e+00, 5.08742826e-03,\n",
       "       0.00000000e+00, 0.00000000e+00, 6.25672191e-02, 9.68943536e-02,\n",
       "       2.79527344e-02, 2.25985218e-02, 8.75157341e-02, 7.06613660e-02,\n",
       "       4.71985899e-02, 0.00000000e+00, 0.00000000e+00, 0.00000000e+00,\n",
       "       0.00000000e+00, 1.19661298e-02, 1.89696755e-02, 8.73973370e-02,\n",
       "       7.96950534e-02, 2.81385016e-02, 0.00000000e+00, 6.67545199e-02,\n",
       "       7.59264752e-02, 2.41308026e-02, 0.00000000e+00, 8.74618664e-02,\n",
       "       0.00000000e+00, 0.00000000e+00, 0.00000000e+00, 1.51358573e-02,\n",
       "       0.00000000e+00, 0.00000000e+00, 2.64406539e-02, 0.00000000e+00,\n",
       "       3.19821388e-02, 0.00000000e+00, 1.19934723e-01, 0.00000000e+00,\n",
       "       3.55567001e-02, 0.00000000e+00, 4.79395827e-03, 0.00000000e+00,\n",
       "       0.00000000e+00, 0.00000000e+00, 0.00000000e+00, 0.00000000e+00,\n",
       "       0.00000000e+00, 6.37779161e-02, 0.00000000e+00, 0.00000000e+00,\n",
       "       0.00000000e+00, 0.00000000e+00, 1.19741127e-01, 2.02287272e-01,\n",
       "       4.54608239e-02, 0.00000000e+00, 1.24946818e-01, 7.83647001e-02,\n",
       "       0.00000000e+00, 7.82094821e-02, 0.00000000e+00, 8.89796242e-02,\n",
       "       0.00000000e+00, 2.23286636e-02, 0.00000000e+00, 0.00000000e+00,\n",
       "       0.00000000e+00, 9.40854102e-03, 1.35012731e-01, 0.00000000e+00,\n",
       "       0.00000000e+00, 0.00000000e+00, 0.00000000e+00, 0.00000000e+00,\n",
       "       4.16671485e-02, 0.00000000e+00, 1.63125321e-02, 4.82345261e-02,\n",
       "       7.47648254e-02, 6.02282360e-02, 0.00000000e+00, 3.08675575e-03,\n",
       "       1.30434509e-03, 1.05077393e-01, 0.00000000e+00, 0.00000000e+00,\n",
       "       5.97711951e-02, 9.96557772e-02, 0.00000000e+00, 0.00000000e+00,\n",
       "       2.31751073e-02, 3.19636427e-02, 0.00000000e+00, 2.86150798e-02,\n",
       "       3.15076709e-02, 4.33015116e-02, 0.00000000e+00, 1.98070407e-01,\n",
       "       0.00000000e+00, 1.99473307e-01, 0.00000000e+00, 6.48658499e-02,\n",
       "       9.63724628e-02, 0.00000000e+00, 9.55825895e-02, 0.00000000e+00,\n",
       "       0.00000000e+00, 0.00000000e+00, 4.96404991e-02, 0.00000000e+00,\n",
       "       9.53249261e-02, 2.33208830e-03, 4.36041877e-02, 0.00000000e+00,\n",
       "       0.00000000e+00, 0.00000000e+00, 3.25554125e-02, 0.00000000e+00,\n",
       "       4.04656790e-02, 0.00000000e+00, 0.00000000e+00, 0.00000000e+00,\n",
       "       6.83961958e-02, 0.00000000e+00, 5.84560111e-02, 2.46859610e-01,\n",
       "       0.00000000e+00, 0.00000000e+00, 7.79870003e-02, 1.00494131e-01,\n",
       "       0.00000000e+00, 4.16956097e-02, 7.67623112e-02, 7.79351294e-02,\n",
       "       1.52443469e-01, 0.00000000e+00, 0.00000000e+00, 0.00000000e+00,\n",
       "       1.05787612e-01, 1.98475141e-02, 0.00000000e+00, 6.45012334e-02,\n",
       "       7.75475204e-02, 4.24613804e-02, 0.00000000e+00, 0.00000000e+00,\n",
       "       2.94885021e-02, 0.00000000e+00, 0.00000000e+00, 8.66527390e-03,\n",
       "       5.61609827e-02, 4.74676155e-02, 0.00000000e+00, 5.20081492e-03,\n",
       "       6.02884255e-02, 4.70461370e-03, 0.00000000e+00, 2.75302120e-03,\n",
       "       5.92437107e-03, 0.00000000e+00, 0.00000000e+00, 3.70372809e-03,\n",
       "       0.00000000e+00, 0.00000000e+00, 4.99767959e-02, 1.73838722e-04,\n",
       "       0.00000000e+00, 2.90766712e-02, 0.00000000e+00, 6.55831620e-02,\n",
       "       0.00000000e+00, 1.36992618e-01, 1.53761446e-01, 8.40069354e-02,\n",
       "       1.54371053e-01, 8.86924416e-02, 8.17008242e-02, 0.00000000e+00,\n",
       "       0.00000000e+00, 1.90658830e-02, 3.12604420e-02, 5.41995540e-02,\n",
       "       5.60087413e-02, 5.82658453e-03, 0.00000000e+00, 0.00000000e+00,\n",
       "       6.81091249e-02, 6.32043183e-03, 0.00000000e+00, 0.00000000e+00,\n",
       "       0.00000000e+00, 2.26730406e-02, 1.23394236e-01, 0.00000000e+00,\n",
       "       1.73591882e-01, 0.00000000e+00, 0.00000000e+00, 0.00000000e+00,\n",
       "       5.96883446e-02, 2.24195886e-02, 1.53844580e-01, 2.34040931e-01,\n",
       "       0.00000000e+00, 0.00000000e+00, 2.16062278e-01, 0.00000000e+00,\n",
       "       0.00000000e+00, 0.00000000e+00, 0.00000000e+00, 4.14032564e-02,\n",
       "       4.54799924e-03, 0.00000000e+00, 1.33175915e-02, 1.61104426e-01,\n",
       "       2.11474761e-01, 0.00000000e+00, 0.00000000e+00, 2.04945460e-01,\n",
       "       3.70401293e-02, 3.24395522e-02, 7.87880924e-03, 0.00000000e+00,\n",
       "       0.00000000e+00, 7.43570328e-02, 0.00000000e+00, 0.00000000e+00,\n",
       "       7.07907304e-02, 0.00000000e+00, 0.00000000e+00, 0.00000000e+00],\n",
       "      dtype=float32)"
      ]
     },
     "execution_count": 15,
     "metadata": {},
     "output_type": "execute_result"
    }
   ],
   "source": [
    "embed1"
   ]
  },
  {
   "cell_type": "code",
   "execution_count": 8,
   "metadata": {},
   "outputs": [
    {
     "data": {
      "text/plain": [
       "(array([0.00000000e+00, 2.86098178e-02, 0.00000000e+00, 0.00000000e+00,\n",
       "        0.00000000e+00, 2.35659089e-02, 0.00000000e+00, 3.98167260e-02,\n",
       "        1.74793527e-02, 6.41821846e-02, 1.42663389e-01, 1.20784439e-01,\n",
       "        4.01942022e-02, 0.00000000e+00, 0.00000000e+00, 1.32044613e-01,\n",
       "        6.08208887e-02, 3.78391966e-02, 4.15784027e-03, 0.00000000e+00,\n",
       "        0.00000000e+00, 1.73344582e-01, 0.00000000e+00, 0.00000000e+00,\n",
       "        0.00000000e+00, 2.82874137e-01, 0.00000000e+00, 0.00000000e+00,\n",
       "        0.00000000e+00, 0.00000000e+00, 6.85061142e-02, 0.00000000e+00,\n",
       "        2.02664852e-01, 0.00000000e+00, 3.74633558e-02, 6.56281561e-02,\n",
       "        4.45506573e-02, 0.00000000e+00, 0.00000000e+00, 0.00000000e+00,\n",
       "        0.00000000e+00, 8.96910280e-02, 4.57912460e-02, 1.02906786e-01,\n",
       "        9.66149382e-03, 7.73228556e-02, 0.00000000e+00, 8.63497332e-02,\n",
       "        6.77320585e-02, 9.18106958e-02, 0.00000000e+00, 1.25967160e-01,\n",
       "        0.00000000e+00, 0.00000000e+00, 0.00000000e+00, 2.12072954e-02,\n",
       "        0.00000000e+00, 1.07854538e-01, 9.53405071e-03, 0.00000000e+00,\n",
       "        4.08473723e-02, 0.00000000e+00, 4.03429233e-02, 0.00000000e+00,\n",
       "        1.13725364e-02, 1.87858731e-01, 3.63139585e-02, 0.00000000e+00,\n",
       "        0.00000000e+00, 0.00000000e+00, 0.00000000e+00, 1.48369307e-02,\n",
       "        0.00000000e+00, 4.61167023e-02, 1.36571387e-02, 5.37586457e-04,\n",
       "        0.00000000e+00, 6.16367348e-03, 0.00000000e+00, 1.40867114e-01,\n",
       "        0.00000000e+00, 0.00000000e+00, 8.72386694e-02, 1.38275996e-01,\n",
       "        1.44589692e-01, 0.00000000e+00, 0.00000000e+00, 1.46263257e-01,\n",
       "        0.00000000e+00, 1.01130925e-01, 2.97877472e-03, 0.00000000e+00,\n",
       "        0.00000000e+00, 3.34087759e-02, 3.42240487e-03, 0.00000000e+00,\n",
       "        7.01241428e-04, 0.00000000e+00, 0.00000000e+00, 0.00000000e+00,\n",
       "        0.00000000e+00, 0.00000000e+00, 5.52694276e-02, 3.68004702e-02,\n",
       "        1.60021409e-01, 0.00000000e+00, 0.00000000e+00, 8.58631805e-02,\n",
       "        0.00000000e+00, 6.85025975e-02, 0.00000000e+00, 2.60887807e-03,\n",
       "        9.59868357e-02, 6.01541251e-02, 2.38393713e-02, 0.00000000e+00,\n",
       "        2.49147811e-03, 9.24864411e-03, 0.00000000e+00, 7.23159835e-02,\n",
       "        3.18500982e-03, 6.83966577e-02, 0.00000000e+00, 9.66021568e-02,\n",
       "        0.00000000e+00, 3.26047577e-02, 1.27837593e-02, 1.41546860e-01,\n",
       "        9.50404778e-02, 0.00000000e+00, 0.00000000e+00, 0.00000000e+00,\n",
       "        0.00000000e+00, 5.23176864e-02, 5.70096448e-02, 4.29839408e-03,\n",
       "        3.99172120e-02, 0.00000000e+00, 4.72371504e-02, 2.92199925e-02,\n",
       "        0.00000000e+00, 0.00000000e+00, 3.05408519e-02, 0.00000000e+00,\n",
       "        1.93494670e-02, 0.00000000e+00, 2.43911948e-02, 0.00000000e+00,\n",
       "        1.44073099e-01, 1.03192860e-02, 1.94250084e-02, 7.94008523e-02,\n",
       "        0.00000000e+00, 0.00000000e+00, 7.72181712e-03, 1.37548834e-01,\n",
       "        0.00000000e+00, 4.15447913e-02, 4.21222337e-02, 1.00302599e-01,\n",
       "        1.13082863e-02, 0.00000000e+00, 2.55116336e-02, 0.00000000e+00,\n",
       "        4.83566523e-02, 0.00000000e+00, 6.73838481e-02, 1.32420540e-01,\n",
       "        9.36870053e-02, 1.26397777e-02, 0.00000000e+00, 0.00000000e+00,\n",
       "        0.00000000e+00, 1.15606263e-02, 0.00000000e+00, 0.00000000e+00,\n",
       "        1.27487928e-01, 1.15952209e-01, 3.83936334e-03, 6.20505074e-04,\n",
       "        1.11576237e-01, 4.49879840e-03, 2.56184842e-02, 5.68469018e-02,\n",
       "        9.70299734e-05, 0.00000000e+00, 0.00000000e+00, 4.97749820e-02,\n",
       "        0.00000000e+00, 0.00000000e+00, 1.04446299e-01, 9.48067531e-02,\n",
       "        0.00000000e+00, 6.91861808e-02, 0.00000000e+00, 2.35780049e-03,\n",
       "        0.00000000e+00, 1.06206797e-01, 1.91354677e-01, 3.66519429e-02,\n",
       "        7.15855742e-03, 4.88641076e-02, 1.06232455e-02, 0.00000000e+00,\n",
       "        0.00000000e+00, 6.35360181e-03, 0.00000000e+00, 1.78954229e-02,\n",
       "        0.00000000e+00, 1.39667988e-01, 0.00000000e+00, 0.00000000e+00,\n",
       "        8.45810622e-02, 0.00000000e+00, 0.00000000e+00, 8.44886228e-02,\n",
       "        0.00000000e+00, 3.80314281e-03, 8.00982863e-02, 0.00000000e+00,\n",
       "        2.95900144e-02, 1.77789796e-02, 0.00000000e+00, 0.00000000e+00,\n",
       "        0.00000000e+00, 3.64198945e-02, 1.06803596e-01, 9.45961401e-02,\n",
       "        0.00000000e+00, 0.00000000e+00, 1.41793815e-03, 0.00000000e+00,\n",
       "        2.90494300e-02, 0.00000000e+00, 0.00000000e+00, 0.00000000e+00,\n",
       "        1.13631219e-01, 6.93719909e-02, 3.87822720e-03, 2.07024515e-01,\n",
       "        1.45445257e-01, 6.93518147e-02, 0.00000000e+00, 1.13654502e-01,\n",
       "        8.86245444e-02, 1.19873688e-01, 9.88723785e-02, 4.50715283e-03,\n",
       "        1.13088125e-02, 0.00000000e+00, 0.00000000e+00, 2.85420958e-02,\n",
       "        1.33952528e-01, 0.00000000e+00, 0.00000000e+00, 0.00000000e+00],\n",
       "       dtype=float32),\n",
       " array([0.00000000e+00, 1.09179296e-01, 0.00000000e+00, 0.00000000e+00,\n",
       "        0.00000000e+00, 7.23110810e-02, 0.00000000e+00, 1.49979159e-01,\n",
       "        6.52130619e-02, 2.21093848e-01, 5.07579803e-01, 4.27161902e-01,\n",
       "        1.39977530e-01, 0.00000000e+00, 0.00000000e+00, 4.55948830e-01,\n",
       "        2.15353146e-01, 1.24024987e-01, 1.46537628e-02, 0.00000000e+00,\n",
       "        0.00000000e+00, 6.05637431e-01, 0.00000000e+00, 0.00000000e+00,\n",
       "        0.00000000e+00, 9.94551361e-01, 0.00000000e+00, 0.00000000e+00,\n",
       "        0.00000000e+00, 0.00000000e+00, 2.40604401e-01, 0.00000000e+00,\n",
       "        7.22080350e-01, 0.00000000e+00, 1.27726540e-01, 2.38584399e-01,\n",
       "        1.41700968e-01, 0.00000000e+00, 0.00000000e+00, 0.00000000e+00,\n",
       "        0.00000000e+00, 3.22203696e-01, 1.58017382e-01, 3.54355723e-01,\n",
       "        3.31989452e-02, 2.85191506e-01, 0.00000000e+00, 3.15014035e-01,\n",
       "        2.32997760e-01, 3.30694467e-01, 0.00000000e+00, 4.35945958e-01,\n",
       "        0.00000000e+00, 0.00000000e+00, 0.00000000e+00, 7.18224570e-02,\n",
       "        0.00000000e+00, 3.65247577e-01, 3.35599147e-02, 0.00000000e+00,\n",
       "        1.45136863e-01, 0.00000000e+00, 1.36230513e-01, 0.00000000e+00,\n",
       "        4.12230305e-02, 6.71361804e-01, 1.36539817e-01, 0.00000000e+00,\n",
       "        0.00000000e+00, 0.00000000e+00, 0.00000000e+00, 5.50955944e-02,\n",
       "        0.00000000e+00, 1.53673366e-01, 4.74340692e-02, 2.05243379e-03,\n",
       "        0.00000000e+00, 2.21129786e-02, 0.00000000e+00, 5.06023526e-01,\n",
       "        0.00000000e+00, 0.00000000e+00, 3.05758029e-01, 4.88621503e-01,\n",
       "        5.19908786e-01, 0.00000000e+00, 0.00000000e+00, 5.21736801e-01,\n",
       "        0.00000000e+00, 3.45088810e-01, 1.13725681e-02, 0.00000000e+00,\n",
       "        0.00000000e+00, 1.17896423e-01, 1.08908787e-02, 0.00000000e+00,\n",
       "        2.67724693e-03, 0.00000000e+00, 0.00000000e+00, 0.00000000e+00,\n",
       "        0.00000000e+00, 0.00000000e+00, 2.04263732e-01, 1.22910991e-01,\n",
       "        5.66186547e-01, 0.00000000e+00, 0.00000000e+00, 3.10957730e-01,\n",
       "        0.00000000e+00, 2.46713534e-01, 0.00000000e+00, 1.01112286e-02,\n",
       "        3.55774224e-01, 2.09336415e-01, 7.84970745e-02, 0.00000000e+00,\n",
       "        9.51213390e-03, 2.70536505e-02, 0.00000000e+00, 2.45804042e-01,\n",
       "        1.15342271e-02, 2.37184629e-01, 0.00000000e+00, 3.44656646e-01,\n",
       "        0.00000000e+00, 1.18852548e-01, 4.48845252e-02, 5.06055236e-01,\n",
       "        3.36603373e-01, 0.00000000e+00, 0.00000000e+00, 0.00000000e+00,\n",
       "        0.00000000e+00, 1.82760373e-01, 1.90661520e-01, 1.64433438e-02,\n",
       "        1.36017412e-01, 0.00000000e+00, 1.80169776e-01, 1.04235865e-01,\n",
       "        0.00000000e+00, 0.00000000e+00, 1.07691921e-01, 0.00000000e+00,\n",
       "        6.20317794e-02, 0.00000000e+00, 9.15450603e-02, 0.00000000e+00,\n",
       "        5.13886094e-01, 3.90752554e-02, 7.27926120e-02, 2.75527090e-01,\n",
       "        0.00000000e+00, 0.00000000e+00, 2.88510527e-02, 4.97605383e-01,\n",
       "        0.00000000e+00, 1.53660908e-01, 1.49059102e-01, 3.64471763e-01,\n",
       "        3.55449207e-02, 0.00000000e+00, 8.22144002e-02, 0.00000000e+00,\n",
       "        1.66643992e-01, 0.00000000e+00, 2.46242568e-01, 4.68901962e-01,\n",
       "        3.37568283e-01, 4.81921099e-02, 0.00000000e+00, 0.00000000e+00,\n",
       "        0.00000000e+00, 4.22261171e-02, 0.00000000e+00, 0.00000000e+00,\n",
       "        4.56962019e-01, 4.05848473e-01, 1.45984720e-02, 2.36900640e-03,\n",
       "        4.06289905e-01, 1.71058513e-02, 9.04494897e-02, 1.94150686e-01,\n",
       "        3.51385359e-04, 0.00000000e+00, 0.00000000e+00, 1.79066077e-01,\n",
       "        0.00000000e+00, 0.00000000e+00, 3.60699356e-01, 3.41035604e-01,\n",
       "        0.00000000e+00, 2.53005475e-01, 0.00000000e+00, 8.53856374e-03,\n",
       "        0.00000000e+00, 3.67479026e-01, 6.76270843e-01, 1.17156185e-01,\n",
       "        2.24421751e-02, 1.66594610e-01, 3.86756398e-02, 0.00000000e+00,\n",
       "        0.00000000e+00, 2.43555587e-02, 0.00000000e+00, 6.71993122e-02,\n",
       "        0.00000000e+00, 5.10723293e-01, 0.00000000e+00, 0.00000000e+00,\n",
       "        3.03154856e-01, 0.00000000e+00, 0.00000000e+00, 3.02302390e-01,\n",
       "        0.00000000e+00, 1.16134780e-02, 2.82049239e-01, 0.00000000e+00,\n",
       "        9.79527757e-02, 6.14799447e-02, 0.00000000e+00, 0.00000000e+00,\n",
       "        0.00000000e+00, 1.34565398e-01, 3.67003620e-01, 3.32384199e-01,\n",
       "        0.00000000e+00, 0.00000000e+00, 4.14767861e-03, 0.00000000e+00,\n",
       "        1.05591111e-01, 0.00000000e+00, 0.00000000e+00, 0.00000000e+00,\n",
       "        4.11664397e-01, 2.47405022e-01, 1.33554786e-02, 7.33770669e-01,\n",
       "        5.13548851e-01, 2.51738459e-01, 0.00000000e+00, 3.94897729e-01,\n",
       "        3.00516188e-01, 4.19677645e-01, 3.58261198e-01, 1.34022366e-02,\n",
       "        4.13907096e-02, 0.00000000e+00, 0.00000000e+00, 1.04984798e-01,\n",
       "        4.70500410e-01, 0.00000000e+00, 0.00000000e+00, 0.00000000e+00],\n",
       "       dtype=float32))"
      ]
     },
     "execution_count": 8,
     "metadata": {},
     "output_type": "execute_result"
    }
   ],
   "source": [
    "embed2"
   ]
  },
  {
   "cell_type": "code",
   "execution_count": 18,
   "metadata": {},
   "outputs": [
    {
     "data": {
      "text/plain": [
       "0.6525545"
      ]
     },
     "execution_count": 18,
     "metadata": {},
     "output_type": "execute_result"
    }
   ],
   "source": [
    "np.linalg.norm(embed1-embed2)"
   ]
  },
  {
   "cell_type": "code",
   "execution_count": 5,
   "metadata": {},
   "outputs": [
    {
     "data": {
      "text/plain": [
       "array([[-3.9524724, -3.9423158, -3.8223953, ..., -3.85504  , -3.8421283,\n",
       "        -3.850272 ],\n",
       "       [-3.9607759, -3.944692 , -3.8018734, ..., -3.8699708, -3.8319888,\n",
       "        -3.8736413],\n",
       "       [-3.9504614, -3.950419 , -3.8631356, ..., -3.8377397, -3.812024 ,\n",
       "        -3.839312 ],\n",
       "       ...,\n",
       "       [-3.9695323, -4.023772 , -3.965344 , ..., -0.7730428, -1.3192565,\n",
       "        -2.0053086],\n",
       "       [-3.955943 , -3.9954484, -3.9383178, ..., -0.6918752, -1.2454225,\n",
       "        -1.9566786],\n",
       "       [-3.9341848, -3.9809728, -3.9289749, ..., -0.6959319, -1.2485704,\n",
       "        -1.9640918]], dtype=float32)"
      ]
     },
     "execution_count": 5,
     "metadata": {},
     "output_type": "execute_result"
    }
   ],
   "source": [
    "test=\"This is being said in my own voice. This is being said in my own voice.This is being said in my own voice. This is being said in my own voice.This is being said in my own voice. This is being said in my own voice.\n",
    "This is being said in my own voice. This is being said in my own voice.\""
   ]
  },
  {
   "cell_type": "code",
   "execution_count": 17,
   "metadata": {},
   "outputs": [],
   "source": [
    "sy=[\"_\",\"~\"]+list( \"ABCDEFGHIJKLMNOPQRSTUVWXYZabcdefghijklmnopqrstuvwxyz!\\'\\\"(),-.:;? \")"
   ]
  },
  {
   "cell_type": "code",
   "execution_count": 19,
   "metadata": {},
   "outputs": [
    {
     "data": {
      "text/plain": [
       "'t'"
      ]
     },
     "execution_count": 19,
     "metadata": {},
     "output_type": "execute_result"
    }
   ],
   "source": [
    "sy[47]"
   ]
  }
 ],
 "metadata": {
  "accelerator": "GPU",
  "colab": {
   "collapsed_sections": [],
   "name": "Copy of Real-Time-Voice-Cloning.ipynb",
   "provenance": [],
   "version": "0.3.2"
  },
  "kernelspec": {
   "display_name": "Python 3",
   "language": "python",
   "name": "python3"
  },
  "language_info": {
   "codemirror_mode": {
    "name": "ipython",
    "version": 3
   },
   "file_extension": ".py",
   "mimetype": "text/x-python",
   "name": "python",
   "nbconvert_exporter": "python",
   "pygments_lexer": "ipython3",
   "version": "3.7.9"
  }
 },
 "nbformat": 4,
 "nbformat_minor": 1
}
